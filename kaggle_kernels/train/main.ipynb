{
 "cells": [
  {
   "cell_type": "code",
   "execution_count": null,
   "metadata": {},
   "outputs": [],
   "source": [
    "!pip install ../input/pip-wheels-feedback-prize-effectivenes/transformers-4.20.1-py3-none-any.whl"
   ]
  },
  {
   "cell_type": "code",
   "execution_count": null,
   "metadata": {},
   "outputs": [],
   "source": [
    "from pathlib import Path\n",
    "\n",
    "config_dir = Path(\"config\")\n",
    "config_dir.mkdir(parents=True, exist_ok=True)\n",
    "import yaml\n",
    "\n",
    "with open(config_dir / \"base.yaml\", \"w\") as f:\n",
    "    yaml.dump(\n",
    "        {\n",
    "            \"feedback_prize_effectiveness_dir\": \"../input/feedback-prize-effectiveness/\",\n",
    "            \"feedback_prize_2021_dir\": \"../input/feedback-prize-2021/\",\n",
    "            \"input_data_dir\": \"../input/feedback-prize-effectiveness-st\",\n",
    "            \"output_dir\": \".\",\n",
    "        },\n",
    "        f,\n",
    "    )\n",
    "\n",
    "with open(config_dir / \"pretrain_2021.yaml\", \"w\") as f:\n",
    "    yaml.dump(\n",
    "        {\n",
    "            \"architecture\": {\n",
    "                \"backbone\": \"microsoft/deberta-large\",\n",
    "                \"dropout\": 0.1,\n",
    "                \"gradient_checkpointing\": True,\n",
    "                \"add_wide_dropout\": False,\n",
    "                \"pretrained_weights\": \"../input/fpe-train-6/2022-09-17-043752/checkpoint.pth\"\n",
    "            },\n",
    "            \"dataset\": {\n",
    "                \"dataset_class\": \"feedback_dataset\",\n",
    "                \"fold\": 0,\n",
    "                \"label_columns\": \"tokens\",\n",
    "                \"num_classes\": 3,\n",
    "                \"text_column\": \"essay_text\",\n",
    "                \"train_df_path\": \"../input/feedback-prize-effectiveness-st/feedback_text_token_classification_v5.pq\"\n",
    "            },\n",
    "            \"environment\": {\n",
    "                \"mixed_precision\": True,\n",
    "                \"num_workers\": 2,\n",
    "                \"report_to\": [\"wandb\"],\n",
    "                \"seed\": 1,\n",
    "                \"debug\": False\n",
    "            },\n",
    "            \"tokenizer\": {\n",
    "                \"max_length\": 2048\n",
    "            },\n",
    "            \"training\": {\n",
    "                \"batch_size\": 2,\n",
    "                \"differential_learning_rate\": 1e-05,\n",
    "                \"differential_learning_rate_layers\": [],\n",
    "                \"drop_last_batch\": True,\n",
    "                \"epochs\": 3,\n",
    "                \"grad_accumulation\": 1,\n",
    "                \"gradient_clip\": 5,\n",
    "                \"is_pseudo\": False,\n",
    "                \"learning_rate\": 2e-05,\n",
    "                \"loss_function\": \"CrossEntropy\",\n",
    "                \"optimizer\": \"AdamW\",\n",
    "                \"schedule\": \"Linear\",\n",
    "                \"warmup_epochs\": 1.5,\n",
    "                \"weight_decay\": 0.001,\n",
    "                \"add_types\": False\n",
    "            }\n",
    "        },\n",
    "        f,\n",
    "    )\n",
    "\n",
    "!python ../input/fpe-code/train.py \\\n",
    "--config_path=config/pretrain_2021.yaml \\\n",
    "--wandb_api_key=\"ceb22709426d40913cca0d66eacf6bfdfc4ddc8c\""
   ]
  }
 ],
 "metadata": {
  "kernelspec": {
   "display_name": "Python 3.7.12 ('py37': venv)",
   "language": "python",
   "name": "python3"
  },
  "language_info": {
   "name": "python",
   "version": "3.7.12"
  },
  "orig_nbformat": 4,
  "vscode": {
   "interpreter": {
    "hash": "9c091c450d1639149b0f4b02b744ac1adf5ddbd7cc9b456d8472ae1e26798d65"
   }
  }
 },
 "nbformat": 4,
 "nbformat_minor": 2
}
