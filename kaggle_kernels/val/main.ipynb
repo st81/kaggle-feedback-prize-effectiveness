{
 "cells": [
  {
   "cell_type": "code",
   "execution_count": null,
   "metadata": {},
   "outputs": [],
   "source": [
    "!pip install ../input/pip-wheels-feedback-prize-effectivenes/transformers-4.20.1-py3-none-any.whl"
   ]
  },
  {
   "cell_type": "code",
   "execution_count": null,
   "metadata": {},
   "outputs": [],
   "source": [
    "from pathlib import Path\n",
    "\n",
    "config_dir = Path(\"config\")\n",
    "config_dir.mkdir(parents=True, exist_ok=True)\n",
    "import yaml"
   ]
  },
  {
   "cell_type": "code",
   "execution_count": null,
   "metadata": {},
   "outputs": [],
   "source": [
    "# fold 0\n",
    "with open(Path(\"../input/fpe-2022-10-04-051210-cp/shrewd-rook-3ep-ff.yaml\")) as f:\n",
    "    config = yaml.load(f, yaml.FullLoader)\n",
    "print(config)\n",
    "\n",
    "config[\"dataset\"][\"fold\"] = 0\n",
    "with open(config_dir / \"config_f0.yaml\", \"w\") as f:\n",
    "    yaml.dump(config, f)\n",
    "\n",
    "!python ../input/fpe-code/train.py \\\n",
    "--config_path=config/config_f0.yaml \\\n",
    "--model_saved_dir=../input/fpe-2022-10-04-051210-cp \\\n",
    "--checkpoint_filename=checkpoint.pth \\\n",
    "--oof_save_dir=shrewd-rook-3ep-ff"
   ]
  },
  {
   "cell_type": "code",
   "execution_count": null,
   "metadata": {},
   "outputs": [],
   "source": [
    "# fold 1\n",
    "with open(Path(\"../input/fpe-2022-10-11-004023-cp/shrewd-rook-3ep-ff.yaml\")) as f:\n",
    "    config = yaml.load(f, yaml.FullLoader)\n",
    "print(config)\n",
    "\n",
    "config[\"dataset\"][\"fold\"] = 1\n",
    "with open(config_dir / \"config_f1.yaml\", \"w\") as f:\n",
    "    yaml.dump(config, f)\n",
    "\n",
    "!python ../input/fpe-code/train.py \\\n",
    "--config_path=config/config_f1.yaml \\\n",
    "--model_saved_dir=../input/fpe-2022-10-11-004023-cp \\\n",
    "--checkpoint_filename=checkpoint.pth \\\n",
    "--oof_save_dir=shrewd-rook-3ep-ff"
   ]
  },
  {
   "cell_type": "code",
   "execution_count": null,
   "metadata": {},
   "outputs": [],
   "source": [
    "# fold 2\n",
    "with open(Path(\"../input/fpe-2022-10-11-012541-cp/shrewd-rook-3ep-ff.yaml\")) as f:\n",
    "    config = yaml.load(f, yaml.FullLoader)\n",
    "print(config)\n",
    "\n",
    "config[\"dataset\"][\"fold\"] = 2\n",
    "with open(config_dir / \"config_f2.yaml\", \"w\") as f:\n",
    "    yaml.dump(config, f)\n",
    "\n",
    "!python ../input/fpe-code/train.py \\\n",
    "--config_path=config/config_f2.yaml \\\n",
    "--model_saved_dir=../input/fpe-2022-10-11-012541-cp \\\n",
    "--checkpoint_filename=checkpoint.pth \\\n",
    "--oof_save_dir=shrewd-rook-3ep-ff"
   ]
  },
  {
   "cell_type": "code",
   "execution_count": null,
   "metadata": {},
   "outputs": [],
   "source": [
    "# fold 3\n",
    "with open(Path(\"../input/fpe-2022-10-04-083227-cp/shrewd-rook-3ep-ff.yaml\")) as f:\n",
    "    config = yaml.load(f, yaml.FullLoader)\n",
    "print(config)\n",
    "\n",
    "config[\"dataset\"][\"fold\"] = 3\n",
    "with open(config_dir / \"config_f3.yaml\", \"w\") as f:\n",
    "    yaml.dump(config, f)\n",
    "\n",
    "!python ../input/fpe-code/train.py \\\n",
    "--config_path=config/config_f3.yaml \\\n",
    "--model_saved_dir=../input/fpe-2022-10-04-083227-cp \\\n",
    "--checkpoint_filename=checkpoint.pth \\\n",
    "--oof_save_dir=shrewd-rook-3ep-ff"
   ]
  },
  {
   "cell_type": "code",
   "execution_count": null,
   "metadata": {},
   "outputs": [],
   "source": [
    "# fold 4\n",
    "with open(Path(\"../input/fpe-2022-10-04-091930-cp/shrewd-rook-3ep-ff.yaml\")) as f:\n",
    "    config = yaml.load(f, yaml.FullLoader)\n",
    "print(config)\n",
    "\n",
    "config[\"dataset\"][\"fold\"] = 4\n",
    "with open(config_dir / \"config_f4.yaml\", \"w\") as f:\n",
    "    yaml.dump(config, f)\n",
    "\n",
    "!python ../input/fpe-code/train.py \\\n",
    "--config_path=config/config_f4.yaml \\\n",
    "--model_saved_dir=../input/fpe-2022-10-04-091930-cp \\\n",
    "--checkpoint_filename=checkpoint.pth \\\n",
    "--oof_save_dir=shrewd-rook-3ep-ff"
   ]
  }
 ],
 "metadata": {
  "kernelspec": {
   "display_name": "Python 3.7.12 ('py37': venv)",
   "language": "python",
   "name": "python3"
  },
  "language_info": {
   "name": "python",
   "version": "3.7.12"
  },
  "orig_nbformat": 4,
  "vscode": {
   "interpreter": {
    "hash": "9c091c450d1639149b0f4b02b744ac1adf5ddbd7cc9b456d8472ae1e26798d65"
   }
  }
 },
 "nbformat": 4,
 "nbformat_minor": 2
}
