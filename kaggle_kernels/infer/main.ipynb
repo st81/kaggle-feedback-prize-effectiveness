{
 "cells": [
  {
   "cell_type": "code",
   "execution_count": null,
   "metadata": {},
   "outputs": [],
   "source": [
    "!pip install ../input/pip-wheels-feedback-prize-effectivenes/transformers-4.20.1-py3-none-any.whl"
   ]
  },
  {
   "cell_type": "code",
   "execution_count": null,
   "metadata": {},
   "outputs": [],
   "source": [
    "from pathlib import Path\n",
    "import yaml\n",
    "\n",
    "dir = Path(\"config/ensemble\")\n",
    "dir.mkdir(parents=True, exist_ok=True)\n",
    "\n",
    "with open(dir / \"config.yaml\", \"w\") as f:\n",
    "    yaml.dump(\n",
    "        {\n",
    "            \"configs\": [\n",
    "                {\n",
    "                    \"model_saved_dir\": \"../input/fpe-2022-09-26-000833-cp\",\n",
    "                    # \"checkpoint_filename\": \"checkpoint-fold0.pth\",\n",
    "                },\n",
    "            ],\n",
    "            # \"pseudo_label_filename\": \"pseudo_75_ff_raw.csv\",\n",
    "        },\n",
    "        f,\n",
    "    )\n",
    "\n",
    "\n",
    "!python ../input/fpe-code/infer.py \\\n",
    "--ensemble_config_path=\"config/ensemble/config.yaml\" \\\n",
    "--map_hugging_face_model_name_to_kaggle_dataset"
   ]
  }
 ],
 "metadata": {
  "kernelspec": {
   "display_name": "Python 3.7.12 ('py37': venv)",
   "language": "python",
   "name": "python3"
  },
  "language_info": {
   "name": "python",
   "version": "3.7.12"
  },
  "orig_nbformat": 4,
  "vscode": {
   "interpreter": {
    "hash": "9c091c450d1639149b0f4b02b744ac1adf5ddbd7cc9b456d8472ae1e26798d65"
   }
  }
 },
 "nbformat": 4,
 "nbformat_minor": 2
}
